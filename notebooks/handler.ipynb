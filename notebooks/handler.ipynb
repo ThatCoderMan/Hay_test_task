{
 "cells": [
  {
   "cell_type": "code",
   "execution_count": null,
   "outputs": [],
   "source": [
    "!pip install ultralytics"
   ],
   "metadata": {
    "collapsed": false
   },
   "id": "1c6fe336-9564-4d40-bbc4-ae9a823ea6e4"
  },
  {
   "cell_type": "code",
   "execution_count": null,
   "outputs": [],
   "source": [
    "!git clone https://github.com/ThatCoderMan/Hay_test_task.git\n",
    "!cp -rf ./Hay_test_task/* ./\n",
    "!rm -r Hay_test_task/"
   ],
   "metadata": {
    "collapsed": false
   },
   "id": "a142418b02cab44e"
  },
  {
   "cell_type": "code",
   "execution_count": null,
   "outputs": [],
   "source": [
    "%cd data/videos\n",
    "!wget --no-check-certificate 'https://drive.usercontent.google.com/download?id=1_lWgETFS_sxk9tzgtteI5PZEeGzTdIXq&export=download&authuser=0&confirm=t&uuid=734bc640-a87a-48f7-b451-3d7d7946b78d&at=APZUnTW9SicfuV7bc74bHdfxhNjp:1698261775232' -O video.mp4\n",
    "%cd ../..\n",
    "%pwd"
   ],
   "metadata": {
    "collapsed": false
   },
   "id": "5f45816a2c8e71a1"
  },
  {
   "cell_type": "code",
   "execution_count": null,
   "outputs": [],
   "source": [
    "from handler import Tracker, Size\n",
    "tracker = Tracker(show=False, video_path='data/videos/video.mp4', conf=0.1, imgsz=Size.s1K)\n",
    "tracker.process_video()"
   ],
   "metadata": {
    "collapsed": false
   },
   "id": "18777df5d499c86c"
  },
  {
   "cell_type": "code",
   "execution_count": null,
   "outputs": [],
   "source": [
    "tracker.save_video()"
   ],
   "metadata": {
    "collapsed": false
   },
   "id": "bc33fcbacefd3f7b"
  }
 ],
 "metadata": {
  "accelerator": "GPU",
  "colab": {
   "provenance": []
  },
  "gpuClass": "standard",
  "kernelspec": {
   "display_name": "Python 3",
   "language": "python",
   "name": "python3"
  },
  "language_info": {
   "codemirror_mode": {
    "name": "ipython",
    "version": 3
   },
   "file_extension": ".py",
   "mimetype": "text/x-python",
   "name": "python",
   "nbconvert_exporter": "python",
   "pygments_lexer": "ipython3",
   "version": "3.9.15"
  }
 },
 "nbformat": 4,
 "nbformat_minor": 5
}
