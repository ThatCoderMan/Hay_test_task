{
 "cells": [
  {
   "cell_type": "markdown",
   "id": "9f24766c-af59-4ae6-a00b-39051ef783a9",
   "metadata": {
    "id": "9f24766c-af59-4ae6-a00b-39051ef783a9"
   },
   "source": [
    "## Install and Import Package"
   ]
  },
  {
   "cell_type": "code",
   "execution_count": null,
   "id": "1c6fe336-9564-4d40-bbc4-ae9a823ea6e4",
   "metadata": {
    "colab": {
     "base_uri": "https://localhost:8080/",
     "height": 1000
    },
    "id": "1c6fe336-9564-4d40-bbc4-ae9a823ea6e4",
    "outputId": "771faace-b2e3-4f2e-c09f-42a36dfbabec",
    "scrolled": true,
    "tags": []
   },
   "outputs": [],
   "source": [
    "!pip install ultralytics"
   ]
  },
  {
   "cell_type": "code",
   "execution_count": null,
   "outputs": [],
   "source": [
    "import zipfile\n",
    "import requests\n",
    "import cv2\n",
    "import matplotlib.pyplot as plt\n",
    "import glob \n",
    "import random\n",
    "import os"
   ],
   "metadata": {
    "collapsed": false
   },
   "id": "5f2f4483-81e9-4378-8e98-222ed56e0bad"
  },
  {
   "cell_type": "markdown",
   "source": [
    "## Clone Git Repo"
   ],
   "metadata": {
    "collapsed": false
   },
   "id": "eecf81d1cc44aa6c"
  },
  {
   "cell_type": "code",
   "execution_count": null,
   "outputs": [],
   "source": [
    "!git clone https://github.com/ThatCoderMan/Hay_test_task.git\n",
    "!cp -rf ./Hay_test_task/* ./\n",
    "!rm -r Hay_test_task/"
   ],
   "metadata": {
    "collapsed": false
   },
   "id": "a142418b02cab44e"
  },
  {
   "cell_type": "markdown",
   "id": "aca11f1c-3328-429d-949b-a942d011b328",
   "metadata": {
    "id": "aca11f1c-3328-429d-949b-a942d011b328"
   },
   "source": [
    "## Download the Dataset"
   ]
  },
  {
   "cell_type": "code",
   "execution_count": null,
   "outputs": [],
   "source": [
    "os.makedirs('datasets', exist_ok=True)"
   ],
   "metadata": {
    "collapsed": false
   },
   "id": "43ed3ece-3bc5-41f4-bdf8-0e715051be0a"
  },
  {
   "cell_type": "code",
   "execution_count": null,
   "outputs": [],
   "source": [
    "# !pip install roboflow\n",
    "# \n",
    "# from roboflow import Roboflow\n",
    "# rf = Roboflow(api_key=\"VDs1nenfrsfHSo45TXZj\")\n",
    "# project = rf.workspace(\"hay\").project(\"hay-yypkw\")\n",
    "# dataset = project.version(1).download(\"yolov8\")"
   ],
   "metadata": {
    "collapsed": false
   },
   "id": "bd751df0752bb1a4"
  },
  {
   "cell_type": "code",
   "execution_count": null,
   "outputs": [],
   "source": [
    "%cd datasets"
   ],
   "metadata": {
    "collapsed": false
   },
   "id": "ed490f10-f72f-4f60-8f0b-264328a4c9d4"
  },
  {
   "cell_type": "code",
   "execution_count": null,
   "outputs": [],
   "source": [
    "!curl -L \"https://app.roboflow.com/ds/Z4MWCxM9E7?key=fk3g2mGGeB\" > roboflow.zip; unzip roboflow.zip; rm roboflow.zip"
   ],
   "metadata": {
    "collapsed": false
   },
   "id": "b9892502bf89b994"
  },
  {
   "cell_type": "code",
   "execution_count": null,
   "outputs": [],
   "source": [
    "%cd .."
   ],
   "metadata": {
    "collapsed": false
   },
   "id": "e8ba3c7a70c92a6e"
  },
  {
   "cell_type": "code",
   "execution_count": null,
   "outputs": [],
   "source": [
    "%pwd"
   ],
   "metadata": {
    "collapsed": false
   },
   "id": "8e1dfd837cce3727"
  },
  {
   "cell_type": "markdown",
   "id": "67106dfe-ce91-48d1-ac7b-d40093ca040b",
   "metadata": {
    "id": "67106dfe-ce91-48d1-ac7b-d40093ca040b"
   },
   "source": [
    "## Visualize Images from the Dataset"
   ]
  },
  {
   "cell_type": "code",
   "execution_count": null,
   "id": "ef2f34fc-564c-4cfd-928a-33fd6cacaf59",
   "metadata": {
    "id": "ef2f34fc-564c-4cfd-928a-33fd6cacaf59"
   },
   "outputs": [],
   "source": [
    "# Function to convert bounding boxes in YOLO format to xmin, ymin, xmax, ymax.\n",
    "def yolo2bbox(bboxes):\n",
    "    xmin, ymin = bboxes[0]-bboxes[2]/2, bboxes[1]-bboxes[3]/2\n",
    "    xmax, ymax = bboxes[0]+bboxes[2]/2, bboxes[1]+bboxes[3]/2\n",
    "    return xmin, ymin, xmax, ymax"
   ]
  },
  {
   "cell_type": "code",
   "execution_count": null,
   "id": "5a213ff6-fb28-4541-80f4-0f8c67323d9b",
   "metadata": {
    "id": "5a213ff6-fb28-4541-80f4-0f8c67323d9b"
   },
   "outputs": [],
   "source": [
    "def plot_box(image, bboxes, labels):\n",
    "    # Need the image height and width to denormalize\n",
    "    # the bounding box coordinates\n",
    "    h, w, _ = image.shape\n",
    "    for box_num, box in enumerate(bboxes):\n",
    "        x1, y1, x2, y2 = yolo2bbox(box)\n",
    "        # Denormalize the coordinates.\n",
    "        xmin = int(x1*w)\n",
    "        ymin = int(y1*h)\n",
    "        xmax = int(x2*w)\n",
    "        ymax = int(y2*h)\n",
    "\n",
    "        thickness = max(2, int(w/275))\n",
    "                \n",
    "        cv2.rectangle(\n",
    "            image, \n",
    "            (xmin, ymin), (xmax, ymax),\n",
    "            color=(0, 0, 255),\n",
    "            thickness=thickness\n",
    "        )\n",
    "    return image"
   ]
  },
  {
   "cell_type": "code",
   "execution_count": null,
   "id": "17582d3e-2f08-430b-ab70-abced31cbe3c",
   "metadata": {
    "id": "17582d3e-2f08-430b-ab70-abced31cbe3c"
   },
   "outputs": [],
   "source": [
    "# Function to plot images with the bounding boxes.\n",
    "def plot(image_paths, label_paths, num_samples):\n",
    "    all_images = []\n",
    "    all_images.extend(glob.glob(image_paths+'/*.jpg'))\n",
    "    all_images.extend(glob.glob(image_paths+'/*.JPG'))\n",
    "    \n",
    "    all_images.sort()\n",
    "\n",
    "    num_images = len(all_images)\n",
    "    \n",
    "    plt.figure(figsize=(15, 12))\n",
    "    for i in range(num_samples):\n",
    "        j = random.randint(0,num_images-1)\n",
    "        image_name = all_images[j]\n",
    "        image_name = '.'.join(image_name.split(os.path.sep)[-1].split('.')[:-1])\n",
    "        image = cv2.imread(all_images[j])\n",
    "        with open(os.path.join(label_paths, image_name+'.txt'), 'r') as f:\n",
    "            bboxes = []\n",
    "            labels = []\n",
    "            label_lines = f.readlines()\n",
    "            for label_line in label_lines:\n",
    "                label = label_line[0]\n",
    "                bbox_string = label_line[2:]\n",
    "                x_c, y_c, w, h = bbox_string.split(' ')\n",
    "                x_c = float(x_c)\n",
    "                y_c = float(y_c)\n",
    "                w = float(w)\n",
    "                h = float(h)\n",
    "                bboxes.append([x_c, y_c, w, h])\n",
    "                labels.append(label)\n",
    "        result_image = plot_box(image, bboxes, labels)\n",
    "        plt.subplot(2, 2, i+1)\n",
    "        plt.imshow(result_image[:, :, ::-1])\n",
    "        plt.axis('off')\n",
    "    plt.subplots_adjust(wspace=1)\n",
    "    plt.tight_layout()\n",
    "    plt.show()"
   ]
  },
  {
   "cell_type": "code",
   "execution_count": null,
   "id": "29598f69-a9a2-4e3f-bcd4-18255a9d7f19",
   "metadata": {
    "colab": {
     "base_uri": "https://localhost:8080/",
     "height": 793
    },
    "id": "29598f69-a9a2-4e3f-bcd4-18255a9d7f19",
    "outputId": "2c897ab8-33ab-45fd-aff9-72718ce4bd6a"
   },
   "outputs": [],
   "source": [
    "# Visualize a few training images.\n",
    "plot(\n",
    "    image_paths='datasets/train/images/', \n",
    "    label_paths='datasets/train/labels/',\n",
    "    num_samples=4,\n",
    ")"
   ]
  },
  {
   "cell_type": "markdown",
   "id": "c25ceb15-6d00-4afa-a349-4dd4fdcf5193",
   "metadata": {
    "id": "c25ceb15-6d00-4afa-a349-4dd4fdcf5193"
   },
   "source": [
    "## Dataset YAML File"
   ]
  },
  {
   "cell_type": "code",
   "execution_count": null,
   "id": "b0031a4a-b114-444f-bc9e-e5e30ac79e42",
   "metadata": {
    "colab": {
     "base_uri": "https://localhost:8080/"
    },
    "id": "b0031a4a-b114-444f-bc9e-e5e30ac79e42",
    "outputId": "c748a3cf-528e-49d5-e0b3-3ef9d1d78b4e"
   },
   "outputs": [],
   "source": [
    "%%writefile hay.yaml\n",
    "path: ''\n",
    "train: 'train/images'\n",
    "val: 'valid/images'\n",
    "\n",
    "# class names\n",
    "names: \n",
    "  0: 'hay'"
   ]
  },
  {
   "cell_type": "markdown",
   "id": "9e86ee50-a8f0-4500-a001-42fb3f18439d",
   "metadata": {
    "id": "9e86ee50-a8f0-4500-a001-42fb3f18439d"
   },
   "source": [
    "## YOLOv8 Nano Training"
   ]
  },
  {
   "cell_type": "code",
   "execution_count": null,
   "id": "81a6b664-8e6f-4e31-ba6b-304164c40e1a",
   "metadata": {
    "colab": {
     "base_uri": "https://localhost:8080/"
    },
    "id": "81a6b664-8e6f-4e31-ba6b-304164c40e1a",
    "outputId": "ec52898e-3ae0-4889-97d2-0ba36223ecaf",
    "scrolled": true,
    "tags": []
   },
   "outputs": [],
   "source": [
    "# Sample training for 5 epoch.\n",
    "EPOCHS = 10\n",
    "!yolo task=detect mode=train model=yolov8n.pt epochs={EPOCHS} batch=8 name=hay_model data=hay.yaml"
   ]
  },
  {
   "cell_type": "markdown",
   "id": "5fcdabf1-0ebe-4f42-a6a5-7ff8e4df4875",
   "metadata": {
    "id": "5fcdabf1-0ebe-4f42-a6a5-7ff8e4df4875"
   },
   "source": [
    "## Evaluation on Validation Images"
   ]
  },
  {
   "cell_type": "code",
   "execution_count": null,
   "id": "da37c627-b4f0-442f-9e60-7035f486c302",
   "metadata": {
    "id": "da37c627-b4f0-442f-9e60-7035f486c302",
    "scrolled": true,
    "tags": []
   },
   "outputs": [],
   "source": [
    "!yolo task=detect mode=val model=runs/detect/hay_model5/weights/best.pt name=hay_model_eval data=hay.yaml"
   ]
  },
  {
   "cell_type": "code",
   "execution_count": null,
   "outputs": [],
   "source": [
    "!yolo export model=runs/detect/hay_model/weights/best.pt format=onnx"
   ],
   "metadata": {
    "collapsed": false
   },
   "id": "5b2f1cfae3811fab"
  },
  {
   "cell_type": "markdown",
   "id": "03071a7c-6c2b-45e0-8a9c-f37384fab77e",
   "metadata": {
    "id": "03071a7c-6c2b-45e0-8a9c-f37384fab77e"
   },
   "source": [
    "## Inference on Validation Images"
   ]
  },
  {
   "cell_type": "code",
   "execution_count": null,
   "id": "b2e2073a-d46e-47f4-8b82-de3d424ef633",
   "metadata": {
    "id": "b2e2073a-d46e-47f4-8b82-de3d424ef633",
    "scrolled": true,
    "tags": []
   },
   "outputs": [],
   "source": [
    "!yolo task=detect \\\n",
    "mode=predict \\\n",
    "model=runs/detect/hay_model5/weights/best.pt \\\n",
    "source=data/videos/original_video \\\n",
    "name=result \\\n",
    "hide_labels=True"
   ]
  },
  {
   "cell_type": "code",
   "execution_count": null,
   "outputs": [],
   "source": [
    "!ffmpeg -f image2 -r 24 -i ./runs/detect/results/frame_%04d.jpg -vcodec libx264 -crf 18  -pix_fmt yuv420p result.mp4 "
   ],
   "metadata": {
    "collapsed": false
   },
   "id": "89d22fd3674ce1e4"
  },
  {
   "cell_type": "markdown",
   "id": "53b20328-2e16-4ef0-855c-5212b058e539",
   "metadata": {
    "id": "53b20328-2e16-4ef0-855c-5212b058e539"
   },
   "source": [
    "## Visualize Validation Results"
   ]
  },
  {
   "cell_type": "code",
   "execution_count": null,
   "id": "06dcd014-8a95-424e-b443-0ae3bd404431",
   "metadata": {
    "id": "06dcd014-8a95-424e-b443-0ae3bd404431"
   },
   "outputs": [],
   "source": [
    "# Plot and visualize images in a 2x2 grid.\n",
    "def visualize(result_dir, num_samples=4):\n",
    "    \"\"\"\n",
    "    Function accepts a list of images and plots\n",
    "    them in a 2x2 grid.\n",
    "    \"\"\"\n",
    "    plt.figure(figsize=(20, 12))\n",
    "    image_names = glob.glob(os.path.join(result_dir, '*.jpg'))\n",
    "    random.shuffle(image_names)\n",
    "    for i, image_name in enumerate(image_names):\n",
    "        image = plt.imread(image_name)\n",
    "        plt.subplot(2, 2, i+1)\n",
    "        plt.imshow(image)\n",
    "        plt.axis('off')\n",
    "        if i == num_samples-1:\n",
    "            break\n",
    "    plt.tight_layout()\n",
    "    plt.show()"
   ]
  },
  {
   "cell_type": "code",
   "execution_count": null,
   "id": "d2b3f113-cc15-4a46-906a-9884ca3780d1",
   "metadata": {
    "id": "d2b3f113-cc15-4a46-906a-9884ca3780d1"
   },
   "outputs": [],
   "source": [
    "visualize('runs/detect/result/')"
   ]
  }
 ],
 "metadata": {
  "accelerator": "GPU",
  "colab": {
   "provenance": []
  },
  "gpuClass": "standard",
  "kernelspec": {
   "display_name": "Python 3",
   "language": "python",
   "name": "python3"
  },
  "language_info": {
   "codemirror_mode": {
    "name": "ipython",
    "version": 3
   },
   "file_extension": ".py",
   "mimetype": "text/x-python",
   "name": "python",
   "nbconvert_exporter": "python",
   "pygments_lexer": "ipython3",
   "version": "3.9.15"
  }
 },
 "nbformat": 4,
 "nbformat_minor": 5
}
